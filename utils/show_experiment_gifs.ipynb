{
 "cells": [
  {
   "cell_type": "code",
   "execution_count": 14,
   "metadata": {},
   "outputs": [
    {
     "data": {
      "text/html": [
       "<div style=\"display: flex; justify-content: row; max-width:250px; max-height:187.5px;\"><img src=\"summary_images_batch_12201_exp_id_5519/singulation11_latent382_msegdl_posvel_unknown_0.2gdl_predicted_depth_exp_id_5519_batch_12201_object_0.gif\"><img src=\"summary_images_batch_12201_exp_id_5519/singulation11_latent382_msegdl_posvel_unknown_0.2gdl_predicted_depth_exp_id_5519_batch_12201_object_1.gif\"><img src=\"summary_images_batch_12201_exp_id_5519/singulation11_latent382_msegdl_posvel_unknown_0.2gdl_predicted_depth_exp_id_5519_batch_12201_object_2.gif\"></div><div style=\"display: flex; justify-content: row; max-width:250px; max-height:187.5px;\"><img src=\"summary_images_batch_12201_exp_id_5519/singulation11_latent382_msegdl_posvel_unknown_0.2gdl_target_depth_exp_id_5519_batch_12201_object_0.gif\"><img src=\"summary_images_batch_12201_exp_id_5519/singulation11_latent382_msegdl_posvel_unknown_0.2gdl_target_depth_exp_id_5519_batch_12201_object_1.gif\"><img src=\"summary_images_batch_12201_exp_id_5519/singulation11_latent382_msegdl_posvel_unknown_0.2gdl_target_depth_exp_id_5519_batch_12201_object_2.gif\"></div><div style=\"display: flex; justify-content: row; max-width:250px; max-height:187.5px;\"><img src=\"summary_images_batch_12201_exp_id_5519/singulation11_latent382_msegdl_posvel_unknown_0.2gdl_predicted_rgb_exp_id_5519_batch_12201_object_0.gif\"><img src=\"summary_images_batch_12201_exp_id_5519/singulation11_latent382_msegdl_posvel_unknown_0.2gdl_predicted_rgb_exp_id_5519_batch_12201_object_1.gif\"><img src=\"summary_images_batch_12201_exp_id_5519/singulation11_latent382_msegdl_posvel_unknown_0.2gdl_predicted_rgb_exp_id_5519_batch_12201_object_2.gif\"></div><div style=\"display: flex; justify-content: row; max-width:250px; max-height:187.5px;\"><img src=\"summary_images_batch_12201_exp_id_5519/singulation11_latent382_msegdl_posvel_unknown_0.2gdl_target_rgb_exp_id_5519_batch_12201_object_0.gif\"><img src=\"summary_images_batch_12201_exp_id_5519/singulation11_latent382_msegdl_posvel_unknown_0.2gdl_target_rgb_exp_id_5519_batch_12201_object_1.gif\"><img src=\"summary_images_batch_12201_exp_id_5519/singulation11_latent382_msegdl_posvel_unknown_0.2gdl_target_rgb_exp_id_5519_batch_12201_object_2.gif\"></div><div style=\"display: flex; justify-content: row; max-width:250px; max-height:187.5px;\"><img src=\"summary_images_batch_12201_exp_id_5519/singulation11_latent382_msegdl_posvel_unknown_0.2gdl_predicted_seg_exp_id_5519_batch_12201_object_0.gif\"><img src=\"summary_images_batch_12201_exp_id_5519/singulation11_latent382_msegdl_posvel_unknown_0.2gdl_predicted_seg_exp_id_5519_batch_12201_object_1.gif\"><img src=\"summary_images_batch_12201_exp_id_5519/singulation11_latent382_msegdl_posvel_unknown_0.2gdl_predicted_seg_exp_id_5519_batch_12201_object_2.gif\"></div><div style=\"display: flex; justify-content: row; max-width:250px; max-height:187.5px;\"><img src=\"summary_images_batch_12201_exp_id_5519/singulation11_latent382_msegdl_posvel_unknown_0.2gdl_target_seg_exp_id_5519_batch_12201_object_0.gif\"><img src=\"summary_images_batch_12201_exp_id_5519/singulation11_latent382_msegdl_posvel_unknown_0.2gdl_target_seg_exp_id_5519_batch_12201_object_1.gif\"><img src=\"summary_images_batch_12201_exp_id_5519/singulation11_latent382_msegdl_posvel_unknown_0.2gdl_target_seg_exp_id_5519_batch_12201_object_2.gif\"></div><div style=\"display: flex; justify-content: row; max-width:250px; max-height:187.5px;\"><img src=\"summary_images_batch_12201_exp_id_5519/singulation11_latent382_msegdl_posvel_unknown_0.2gdl_target_global_depth_exp_id_12201_batch_5519.gif\"><img src=\"summary_images_batch_12201_exp_id_5519/singulation11_latent382_msegdl_posvel_unknown_0.2gdl_target_global_img_exp_id_5519_batch_12201.gif\"><img src=\"summary_images_batch_12201_exp_id_5519/singulation11_latent382_msegdl_posvel_unknown_0.2gdl_target_global_seg_exp_id_5519_batch_12201.gif\"></div>"
      ],
      "text/plain": [
       "<IPython.core.display.HTML object>"
      ]
     },
     "metadata": {},
     "output_type": "display_data"
    }
   ],
   "source": [
    "import os\n",
    "from IPython.core.display import Image, display, HTML\n",
    "\n",
    "\n",
    "def show_experiment_gifs(exp_dir):\n",
    "    \n",
    "    list_dir = sorted([f for f in os.listdir(exp_dir) if os.path.isfile(os.path.join(exp_dir, f))])\n",
    "            \n",
    "\n",
    "    ' depth '\n",
    "    html_str = make_html(exp_dir, [list_dir[0], list_dir[1], list_dir[2]])\n",
    "    html_str += make_html(exp_dir, [list_dir[0+9], list_dir[1+9], list_dir[2+9]])\n",
    "    \n",
    "    'rgb'\n",
    "    html_str += make_html(exp_dir, [list_dir[3], list_dir[4], list_dir[5]])\n",
    "    html_str += make_html(exp_dir, [list_dir[3+12], list_dir[4+12], list_dir[5+12]])\n",
    "    \n",
    "    'seg'\n",
    "    html_str += make_html(exp_dir, [list_dir[6], list_dir[7], list_dir[8]])\n",
    "    html_str += make_html(exp_dir, [list_dir[6+12], list_dir[7+12], list_dir[8+12]])   \n",
    "    \n",
    "    'globals'\n",
    "    html_str += make_html(exp_dir, [list_dir[12], list_dir[13], list_dir[14]])\n",
    "    \n",
    "    display(HTML(html_str))\n",
    "    \n",
    "\n",
    "\n",
    "    \n",
    "def make_html(folder, img_lst):\n",
    "    html_str = '''<div style=\"display: flex; justify-content: row; max-width:250px; max-height:187.5px;\">'''\n",
    "    for i in img_lst:\n",
    "        html_str += '''<img src=\"{}\">'''.format(os.path.join(folder, i))\n",
    "    html_str +='''</div>'''\n",
    "    return html_str\n",
    "    \n",
    "  \n",
    "def get_absolute_paths(directory):\n",
    "    lst = []\n",
    "    for dirpath,_,filenames in os.walk(directory):\n",
    "        for f in filenames:\n",
    "            lst.append(os.path.abspath(os.path.join(dirpath, f)))\n",
    "    return lst\n",
    "\n",
    "\n",
    "   \n",
    "show_experiment_gifs(\"summary_images_batch_12201_exp_id_5519\")\n",
    "\n"
   ]
  },
  {
   "cell_type": "code",
   "execution_count": null,
   "metadata": {},
   "outputs": [],
   "source": []
  },
  {
   "cell_type": "code",
   "execution_count": null,
   "metadata": {},
   "outputs": [],
   "source": []
  },
  {
   "cell_type": "code",
   "execution_count": null,
   "metadata": {},
   "outputs": [],
   "source": []
  },
  {
   "cell_type": "code",
   "execution_count": null,
   "metadata": {},
   "outputs": [],
   "source": []
  }
 ],
 "metadata": {
  "kernelspec": {
   "display_name": "Python 3",
   "language": "python",
   "name": "python3"
  },
  "language_info": {
   "codemirror_mode": {
    "name": "ipython",
    "version": 3
   },
   "file_extension": ".py",
   "mimetype": "text/x-python",
   "name": "python",
   "nbconvert_exporter": "python",
   "pygments_lexer": "ipython3",
   "version": "3.6.4"
  }
 },
 "nbformat": 4,
 "nbformat_minor": 2
}
