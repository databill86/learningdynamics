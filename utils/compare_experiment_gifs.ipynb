{
 "cells": [
  {
   "cell_type": "markdown",
   "metadata": {},
   "source": [
    "# test"
   ]
  },
  {
   "cell_type": "code",
   "execution_count": 2,
   "metadata": {},
   "outputs": [
    {
     "data": {
      "text/markdown": [
       "# trained on 10 rollouts, tested on 20"
      ],
      "text/plain": [
       "<IPython.core.display.Markdown object>"
      ]
     },
     "metadata": {},
     "output_type": "display_data"
    },
    {
     "data": {
      "text/markdown": [
       "### target"
      ],
      "text/plain": [
       "<IPython.core.display.Markdown object>"
      ]
     },
     "metadata": {},
     "output_type": "display_data"
    },
    {
     "ename": "FileNotFoundError",
     "evalue": "[Errno 2] No such file or directory: 'trained_on_10_tested_on_20_rollouts/singulation9_latent382_msegdl_posvel_unknown/summary_images_batch_22001_exp_id_18009'",
     "traceback": [
      "\u001b[0;31m---------------------------------------------------------------------------\u001b[0m",
      "\u001b[0;31mFileNotFoundError\u001b[0m                         Traceback (most recent call last)",
      "\u001b[0;32m<ipython-input-2-ac5acdadc527>\u001b[0m in \u001b[0;36m<module>\u001b[0;34m()\u001b[0m\n\u001b[1;32m     40\u001b[0m \u001b[0mdisplay\u001b[0m\u001b[0;34m(\u001b[0m\u001b[0mMarkdown\u001b[0m\u001b[0;34m(\u001b[0m\u001b[0;34m\"# {}\"\u001b[0m\u001b[0;34m.\u001b[0m\u001b[0mformat\u001b[0m\u001b[0;34m(\u001b[0m\u001b[0;34m\"trained on 10 rollouts, tested on 20\"\u001b[0m\u001b[0;34m)\u001b[0m\u001b[0;34m)\u001b[0m\u001b[0;34m)\u001b[0m\u001b[0;34m\u001b[0m\u001b[0m\n\u001b[1;32m     41\u001b[0m \u001b[0mdisplay\u001b[0m\u001b[0;34m(\u001b[0m\u001b[0mMarkdown\u001b[0m\u001b[0;34m(\u001b[0m\u001b[0;34m\"### {}\"\u001b[0m\u001b[0;34m.\u001b[0m\u001b[0mformat\u001b[0m\u001b[0;34m(\u001b[0m\u001b[0;34m\"target\"\u001b[0m\u001b[0;34m)\u001b[0m\u001b[0;34m)\u001b[0m\u001b[0;34m)\u001b[0m\u001b[0;34m\u001b[0m\u001b[0m\n\u001b[0;32m---> 42\u001b[0;31m \u001b[0mshow_experiment_gifs\u001b[0m\u001b[0;34m(\u001b[0m\u001b[0;34m\"trained_on_10_tested_on_20_rollouts/singulation9_latent382_msegdl_posvel_unknown/summary_images_batch_22001_exp_id_18009\"\u001b[0m\u001b[0;34m,\u001b[0m \u001b[0;34m'seg'\u001b[0m\u001b[0;34m,\u001b[0m \u001b[0mshow_target\u001b[0m\u001b[0;34m=\u001b[0m\u001b[0;32mTrue\u001b[0m\u001b[0;34m)\u001b[0m\u001b[0;34m\u001b[0m\u001b[0m\n\u001b[0m\u001b[1;32m     43\u001b[0m \u001b[0mdisplay\u001b[0m\u001b[0;34m(\u001b[0m\u001b[0mMarkdown\u001b[0m\u001b[0;34m(\u001b[0m\u001b[0;34m\"### {}\"\u001b[0m\u001b[0;34m.\u001b[0m\u001b[0mformat\u001b[0m\u001b[0;34m(\u001b[0m\u001b[0;34m\"singulation9\"\u001b[0m\u001b[0;34m)\u001b[0m\u001b[0;34m)\u001b[0m\u001b[0;34m)\u001b[0m\u001b[0;34m\u001b[0m\u001b[0m\n\u001b[1;32m     44\u001b[0m \u001b[0mshow_experiment_gifs\u001b[0m\u001b[0;34m(\u001b[0m\u001b[0;34m\"trained_on_10_tested_on_20_rollouts/singulation11_latent382_msegdl_posvel_unknown_0.2gdl/summary_images_batch_22001_exp_id_18009\"\u001b[0m\u001b[0;34m,\u001b[0m \u001b[0;34m'seg'\u001b[0m\u001b[0;34m)\u001b[0m\u001b[0;34m\u001b[0m\u001b[0m\n",
      "\u001b[0;32m<ipython-input-2-ac5acdadc527>\u001b[0m in \u001b[0;36mshow_experiment_gifs\u001b[0;34m(exp_dir, type_to_show, show_target)\u001b[0m\n\u001b[1;32m      5\u001b[0m \u001b[0;32mdef\u001b[0m \u001b[0mshow_experiment_gifs\u001b[0m\u001b[0;34m(\u001b[0m\u001b[0mexp_dir\u001b[0m\u001b[0;34m,\u001b[0m \u001b[0mtype_to_show\u001b[0m\u001b[0;34m=\u001b[0m\u001b[0;34m'seg'\u001b[0m\u001b[0;34m,\u001b[0m \u001b[0mshow_target\u001b[0m\u001b[0;34m=\u001b[0m\u001b[0;32mFalse\u001b[0m\u001b[0;34m)\u001b[0m\u001b[0;34m:\u001b[0m\u001b[0;34m\u001b[0m\u001b[0m\n\u001b[1;32m      6\u001b[0m \u001b[0;34m\u001b[0m\u001b[0m\n\u001b[0;32m----> 7\u001b[0;31m     \u001b[0mlist_dir\u001b[0m \u001b[0;34m=\u001b[0m \u001b[0msorted\u001b[0m\u001b[0;34m(\u001b[0m\u001b[0;34m[\u001b[0m\u001b[0mf\u001b[0m \u001b[0;32mfor\u001b[0m \u001b[0mf\u001b[0m \u001b[0;32min\u001b[0m \u001b[0mos\u001b[0m\u001b[0;34m.\u001b[0m\u001b[0mlistdir\u001b[0m\u001b[0;34m(\u001b[0m\u001b[0mexp_dir\u001b[0m\u001b[0;34m)\u001b[0m \u001b[0;32mif\u001b[0m \u001b[0mos\u001b[0m\u001b[0;34m.\u001b[0m\u001b[0mpath\u001b[0m\u001b[0;34m.\u001b[0m\u001b[0misfile\u001b[0m\u001b[0;34m(\u001b[0m\u001b[0mos\u001b[0m\u001b[0;34m.\u001b[0m\u001b[0mpath\u001b[0m\u001b[0;34m.\u001b[0m\u001b[0mjoin\u001b[0m\u001b[0;34m(\u001b[0m\u001b[0mexp_dir\u001b[0m\u001b[0;34m,\u001b[0m \u001b[0mf\u001b[0m\u001b[0;34m)\u001b[0m\u001b[0;34m)\u001b[0m\u001b[0;34m]\u001b[0m\u001b[0;34m)\u001b[0m\u001b[0;34m\u001b[0m\u001b[0m\n\u001b[0m\u001b[1;32m      8\u001b[0m \u001b[0;34m\u001b[0m\u001b[0m\n\u001b[1;32m      9\u001b[0m     \u001b[0;32mif\u001b[0m \u001b[0mtype_to_show\u001b[0m \u001b[0;34m==\u001b[0m \u001b[0;34m'depth'\u001b[0m\u001b[0;34m:\u001b[0m\u001b[0;34m\u001b[0m\u001b[0m\n",
      "\u001b[0;31mFileNotFoundError\u001b[0m: [Errno 2] No such file or directory: 'trained_on_10_tested_on_20_rollouts/singulation9_latent382_msegdl_posvel_unknown/summary_images_batch_22001_exp_id_18009'"
     ],
     "output_type": "error"
    }
   ],
   "source": [
    "import os\n",
    "from IPython.core.display import Image, display, HTML, Markdown\n",
    "\n",
    "\n",
    "def show_experiment_gifs(exp_dir, type_to_show='seg', show_target=False):\n",
    "    \n",
    "    list_dir = sorted([f for f in os.listdir(exp_dir) if os.path.isfile(os.path.join(exp_dir, f))])\n",
    "    list_dir = [i for i in list_dir if '2d_' not in i and '3d_' not in i and 'dataframe' not in i]
    "    \n",
    "    if type_to_show == 'depth':\n",
    "        html_str = make_html(exp_dir, [list_dir[0], list_dir[1], list_dir[2]])\n",
    "        if show_target:\n",
    "            html_str = make_html(exp_dir, [list_dir[0+9], list_dir[1+9], list_dir[2+9]])\n",
    "    \n",
    "    if type_to_show == 'rgb':\n",
    "        html_str = make_html(exp_dir, [list_dir[3], list_dir[4], list_dir[5]])\n",
    "        if show_target:\n",
    "            html_str = make_html(exp_dir, [list_dir[3+12], list_dir[4+12], list_dir[5+12]])\n",
    "    \n",
    "    if type_to_show == 'seg':\n",
    "        html_str = make_html(exp_dir, [list_dir[6], list_dir[7], list_dir[8]])\n",
    "        if show_target:\n",
    "            html_str = make_html(exp_dir, [list_dir[6+12], list_dir[7+12], list_dir[8+12]])   \n",
    "    \n",
    "    if type_to_show == 'globals':\n",
    "        html_str += make_html(exp_dir, [list_dir[12], list_dir[13], list_dir[14]])\n",
    "    \n",
    "    \n",
    "    display(HTML(html_str))\n",
    "    \n",
    "\n",
    "\n",
    "    \n",
    "def make_html(folder, img_lst):\n",
    "    html_str = '''<div style=\"display: flex; justify-content: row; max-width:250px; max-height:187.5px;\">'''\n",
    "    for i in img_lst:\n",
    "        html_str += '''<img src=\"{}\">'''.format(os.path.join(folder, i))\n",
    "    html_str +='''</div>'''\n",
    "    return html_str\n",
    "    \n",
    "display(Markdown(\"# {}\".format(\"trained on 10 rollouts, tested on 20\")))\n",
    "display(Markdown(\"### {}\".format(\"target\")))\n",
    "show_experiment_gifs(\"trained_on_10_tested_on_20_rollouts/singulation9_latent382_msegdl_posvel_unknown/summary_images_batch_22001_exp_id_18009\", 'seg', show_target=True)\n",
    "display(Markdown(\"### {}\".format(\"singulation9\")))\n",
    "show_experiment_gifs(\"trained_on_10_tested_on_20_rollouts/singulation11_latent382_msegdl_posvel_unknown_0.2gdl/summary_images_batch_22001_exp_id_18009\", 'seg')\n",
    "display(Markdown(\"### {}\".format(\"singulation10\")))\n",
    "#show_experiment_gifs(\"summary_images_batch_22001_exp_id_18009\", 'seg')\n",
    "display(Markdown(\"### {}\".format(\"singulation11\")))\n",
    "#show_experiment_gifs(\"summary_images_batch_22001_exp_id_18009\", 'seg')\n",
    "\n",
    "\n"
   ]
  },
  {
   "cell_type": "code",
   "execution_count": null,
   "metadata": {},
   "outputs": [],
   "source": []
  },
  {
   "cell_type": "code",
   "execution_count": null,
   "metadata": {},
   "outputs": [],
   "source": []
  }
 ],
 "metadata": {
  "kernelspec": {
   "display_name": "Python 3",
   "language": "python",
   "name": "python3"
  },
  "language_info": {
   "codemirror_mode": {
    "name": "ipython",
    "version": 3
   },
   "file_extension": ".py",
   "mimetype": "text/x-python",
   "name": "python",
   "nbconvert_exporter": "python",
   "pygments_lexer": "ipython3",
   "version": "3.6.4"
  }
 },
 "nbformat": 4,
 "nbformat_minor": 2
}
